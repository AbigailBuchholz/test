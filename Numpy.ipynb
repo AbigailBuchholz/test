{
  "nbformat": 4,
  "nbformat_minor": 0,
  "metadata": {
    "anaconda-cloud": {},
    "kernelspec": {
      "display_name": "Python 3",
      "language": "python",
      "name": "python3"
    },
    "language_info": {
      "codemirror_mode": {
        "name": "ipython",
        "version": 3
      },
      "file_extension": ".py",
      "mimetype": "text/x-python",
      "name": "python",
      "nbconvert_exporter": "python",
      "pygments_lexer": "ipython3",
      "version": "3.8.3"
    },
    "colab": {
      "name": "Numpy.ipynb",
      "provenance": [],
      "collapsed_sections": [
        "PppeijQzWNvy",
        "k_sJvcysWNv2",
        "O68NQF9zWNv5",
        "yBrO7XffWNv6",
        "RS7tElp1WNv8",
        "QyY72KHpWNv8",
        "OMVpvXTkWNv8",
        "XPCLjZkIWNv-",
        "NsraeekOWNv-"
      ],
      "include_colab_link": true
    }
  },
  "cells": [
    {
      "cell_type": "markdown",
      "metadata": {
        "id": "view-in-github",
        "colab_type": "text"
      },
      "source": [
        "<a href=\"https://colab.research.google.com/github/AbigailBuchholz/test/blob/main/Numpy.ipynb\" target=\"_parent\"><img src=\"https://colab.research.google.com/assets/colab-badge.svg\" alt=\"Open In Colab\"/></a>"
      ]
    },
    {
      "cell_type": "markdown",
      "metadata": {
        "id": "F0vld_hFWNvc"
      },
      "source": [
        "# Task 1: Getting started with Numpy\n",
        "\n",
        "Let's spend a few minutes just learning some of the fundamentals of Numpy. (pronounced as num-pie **not num-pee**) \n",
        "\n",
        "### what is numpy\n",
        "Numpy is a Python library that support large, multi-dimensional arrays and matrices. \n",
        "\n",
        "Let's look at an example. Suppose we start with a little table:\n",
        "\n",
        "| a  | b | c  |  d | e |\n",
        "| :---: | :---: | :---: | :---: | :---: |\n",
        "| 0 | 1 | 2 | 3 | 4 |\n",
        "|10| 11| 12 | 13 | 14|\n",
        "|20| 21 | 22 | 23 | 24 |\n",
        "|30 | 31 | 32 | 33 | 34 |\n",
        "|40 |41 | 42 | 43 | 44 |\n",
        "\n",
        "and I simply want to add 10 to each cell:\n",
        "\n",
        "| a  | b | c  |  d | e |\n",
        "| :---: | :---: | :---: | :---: | :---: |\n",
        "| 10 | 11 | 12 | 13 | 14 |\n",
        "|20| 21| 22 | 23 | 24|\n",
        "|30| 31 | 32 | 33 | 34 |\n",
        "|40 | 41 | 42 | 43 | 44 |\n",
        "|50 |51 | 52 | 53 | 54 |\n",
        "\n",
        "To make things interesting, instead of a a 5 x5 array, let's make it 1,000x1,000 -- so 1 million cells!\n",
        "\n",
        "First, let's construct it in generic Python"
      ]
    },
    {
      "cell_type": "code",
      "metadata": {
        "id": "vojwOcpYWNvi",
        "colab": {
          "base_uri": "https://localhost:8080/"
        },
        "outputId": "b9f0fd80-36b2-4432-d249-5ac7d8274f47"
      },
      "source": [
        "a = [[x + y * 1000 for x in range(1000)] for y in range(1000)]\n",
        "test=3\n",
        "test\n"
      ],
      "execution_count": 1,
      "outputs": [
        {
          "output_type": "execute_result",
          "data": {
            "text/plain": [
              "3"
            ]
          },
          "metadata": {
            "tags": []
          },
          "execution_count": 1
        }
      ]
    },
    {
      "cell_type": "markdown",
      "metadata": {
        "id": "i-CqAcRbWNvi"
      },
      "source": [
        "Instead of glossing over the first code example in the course, take your time, go back, and parse it out so you understand it. Test it out and see what it looks like. For example, how would you change the example to make a 10x10 array called `a2`? execute the code here:"
      ]
    },
    {
      "cell_type": "code",
      "metadata": {
        "colab": {
          "base_uri": "https://localhost:8080/"
        },
        "id": "cv6Eyb3AWNvj",
        "outputId": "f7dbb8ae-3180-449b-9fdb-6105d808bc38"
      },
      "source": [
        "a2=[[x+y*10 for x in range (10)]for y in range(10)]\r\n",
        "a2"
      ],
      "execution_count": 2,
      "outputs": [
        {
          "output_type": "execute_result",
          "data": {
            "text/plain": [
              "[[0, 1, 2, 3, 4, 5, 6, 7, 8, 9],\n",
              " [10, 11, 12, 13, 14, 15, 16, 17, 18, 19],\n",
              " [20, 21, 22, 23, 24, 25, 26, 27, 28, 29],\n",
              " [30, 31, 32, 33, 34, 35, 36, 37, 38, 39],\n",
              " [40, 41, 42, 43, 44, 45, 46, 47, 48, 49],\n",
              " [50, 51, 52, 53, 54, 55, 56, 57, 58, 59],\n",
              " [60, 61, 62, 63, 64, 65, 66, 67, 68, 69],\n",
              " [70, 71, 72, 73, 74, 75, 76, 77, 78, 79],\n",
              " [80, 81, 82, 83, 84, 85, 86, 87, 88, 89],\n",
              " [90, 91, 92, 93, 94, 95, 96, 97, 98, 99]]"
            ]
          },
          "metadata": {
            "tags": []
          },
          "execution_count": 2
        }
      ]
    },
    {
      "cell_type": "markdown",
      "metadata": {
        "id": "v4Bak8PBWNvj"
      },
      "source": [
        "Now let's take a look at the value of a2:"
      ]
    },
    {
      "cell_type": "code",
      "metadata": {
        "id": "4KS6WHc4WNvj",
        "colab": {
          "base_uri": "https://localhost:8080/"
        },
        "outputId": "dd4d563b-ca14-4cd3-bc72-db840b72485f"
      },
      "source": [
        "a2"
      ],
      "execution_count": 3,
      "outputs": [
        {
          "output_type": "execute_result",
          "data": {
            "text/plain": [
              "[[0, 1, 2, 3, 4, 5, 6, 7, 8, 9],\n",
              " [10, 11, 12, 13, 14, 15, 16, 17, 18, 19],\n",
              " [20, 21, 22, 23, 24, 25, 26, 27, 28, 29],\n",
              " [30, 31, 32, 33, 34, 35, 36, 37, 38, 39],\n",
              " [40, 41, 42, 43, 44, 45, 46, 47, 48, 49],\n",
              " [50, 51, 52, 53, 54, 55, 56, 57, 58, 59],\n",
              " [60, 61, 62, 63, 64, 65, 66, 67, 68, 69],\n",
              " [70, 71, 72, 73, 74, 75, 76, 77, 78, 79],\n",
              " [80, 81, 82, 83, 84, 85, 86, 87, 88, 89],\n",
              " [90, 91, 92, 93, 94, 95, 96, 97, 98, 99]]"
            ]
          },
          "metadata": {
            "tags": []
          },
          "execution_count": 3
        }
      ]
    },
    {
      "cell_type": "code",
      "metadata": {
        "id": "CLNawmBbWmoJ"
      },
      "source": [
        "\r\n"
      ],
      "execution_count": 3,
      "outputs": []
    },
    {
      "cell_type": "markdown",
      "metadata": {
        "id": "CHS_7v7ZWNvk"
      },
      "source": [
        "Now that we understand that line of code let's go on and write a function that will add 10 to each cell in our original 1000x1000 matrix.\n"
      ]
    },
    {
      "cell_type": "code",
      "metadata": {
        "id": "7gaThNbGWNvl"
      },
      "source": [
        "def addToArr(sizeof):\n",
        "    for i in range(sizeof):\n",
        "        for j in range(sizeof):\n",
        "            a[i][j] = a[i][j] + 10\n"
      ],
      "execution_count": 4,
      "outputs": []
    },
    {
      "cell_type": "markdown",
      "metadata": {
        "id": "X54oDzERWNvl"
      },
      "source": [
        "As you can see, we iterate over the array with nested for loops. \n",
        "\n",
        "Let's take a look at how much time it takes to run that function:"
      ]
    },
    {
      "cell_type": "code",
      "metadata": {
        "id": "VMc_9QxqWNvn",
        "colab": {
          "base_uri": "https://localhost:8080/"
        },
        "outputId": "fe52d78e-ad6c-4f29-a6f8-f6dcc0b6afc3"
      },
      "source": [
        "%time addToArr(1000)"
      ],
      "execution_count": 5,
      "outputs": [
        {
          "output_type": "stream",
          "text": [
            "CPU times: user 134 ms, sys: 993 µs, total: 135 ms\n",
            "Wall time: 172 ms\n"
          ],
          "name": "stdout"
        }
      ]
    },
    {
      "cell_type": "markdown",
      "metadata": {
        "id": "fXNoGFsHWNvo"
      },
      "source": [
        "My results were:\n",
        "\n",
        "    CPU times: user 145 ms, sys: 0 ns, total: 145 ms\n",
        "    Wall time: 143 ms\n",
        "\n",
        "So about 1/7 of a second. \n",
        "\n",
        "### Doing in using Numpy\n",
        "Now do the same using Numpy.\n",
        "\n",
        "\n",
        "We can construct the array using\n",
        "    \n",
        "    arr = np.arange(1000000).reshape((1000,1000))\n",
        "\n",
        "Not sure what that line does? Numpy has great online documentation. [Documentation for np.arange](https://numpy.org/doc/stable/reference/generated/numpy.arange.html) says it \"Return evenly spaced values within a given interval.\" Let's try it out:"
      ]
    },
    {
      "cell_type": "code",
      "metadata": {
        "id": "g5uZRoekWNvo",
        "colab": {
          "base_uri": "https://localhost:8080/"
        },
        "outputId": "cdf54614-5cc6-422b-dbc6-dd4dca3f53b7"
      },
      "source": [
        "import numpy as np\n",
        "np.arange(16)"
      ],
      "execution_count": 6,
      "outputs": [
        {
          "output_type": "execute_result",
          "data": {
            "text/plain": [
              "array([ 0,  1,  2,  3,  4,  5,  6,  7,  8,  9, 10, 11, 12, 13, 14, 15])"
            ]
          },
          "metadata": {
            "tags": []
          },
          "execution_count": 6
        }
      ]
    },
    {
      "cell_type": "markdown",
      "metadata": {
        "id": "SgN7ie6vWNvo"
      },
      "source": [
        "So `np.arange(10)` creates a matrix of 16 sequential integers. [The documentation for reshape](https://numpy.org/doc/1.18/reference/generated/numpy.reshape.html) says, as the name suggests, \"Gives a new shape to an array without changing its data.\"  Suppose we want to reshape our 1 dimensional matrix of 16 integers to a 4x4 one. we can do:"
      ]
    },
    {
      "cell_type": "code",
      "metadata": {
        "id": "tY0bXLChWNvp",
        "colab": {
          "base_uri": "https://localhost:8080/"
        },
        "outputId": "dbdb896f-44c4-4108-8c42-efd6447d7c3a"
      },
      "source": [
        "np.arange(16).reshape((4,4))"
      ],
      "execution_count": 7,
      "outputs": [
        {
          "output_type": "execute_result",
          "data": {
            "text/plain": [
              "array([[ 0,  1,  2,  3],\n",
              "       [ 4,  5,  6,  7],\n",
              "       [ 8,  9, 10, 11],\n",
              "       [12, 13, 14, 15]])"
            ]
          },
          "metadata": {
            "tags": []
          },
          "execution_count": 7
        }
      ]
    },
    {
      "cell_type": "markdown",
      "metadata": {
        "id": "hTXjSL8aWNvp"
      },
      "source": [
        "As you can see it is pretty easy to find documentation on Numpy.\n",
        "\n",
        "Back to our example of creating a 1000x1000 matrix, we now can time how long it takes to add 10 to each cell.\n",
        "\n",
        "    %time arr = arr + 10\n",
        "    \n",
        "Let's put this all together:"
      ]
    },
    {
      "cell_type": "code",
      "metadata": {
        "colab": {
          "base_uri": "https://localhost:8080/"
        },
        "id": "Iu5lIt1DWNvp",
        "outputId": "1177952d-96ae-43bb-c405-62004d764374"
      },
      "source": [
        "import numpy as np\n",
        "arr = np.arange(1000000).reshape((1000,1000))\n",
        "%time arr = arr + 10"
      ],
      "execution_count": 8,
      "outputs": [
        {
          "output_type": "stream",
          "text": [
            "CPU times: user 2.08 ms, sys: 1.01 ms, total: 3.1 ms\n",
            "Wall time: 3.11 ms\n"
          ],
          "name": "stdout"
        }
      ]
    },
    {
      "cell_type": "markdown",
      "metadata": {
        "id": "qUMtlkZpWNvq"
      },
      "source": [
        "My results were\n",
        "\n",
        "    CPU times: user 1.26 ms, sys: 408 µs, total: 1.67 ms\n",
        "    Wall time: 1.68 ms\n",
        "\n",
        "So, depending on your computer, somewhere around 25 to 100 times faster. **That is phenomenally faster!**\n",
        "\n",
        "And Numpy is even fast in creating arrays:\n",
        "\n",
        "#### the generic Python way"
      ]
    },
    {
      "cell_type": "code",
      "metadata": {
        "id": "JE1TvJK3WNvq",
        "colab": {
          "base_uri": "https://localhost:8080/"
        },
        "outputId": "fb2d7b1e-8657-4f72-dca8-83ae1e8e014e"
      },
      "source": [
        "%time a = [[x + y * 1000 for x in range(1000)] for y in range(1000)]"
      ],
      "execution_count": 9,
      "outputs": [
        {
          "output_type": "stream",
          "text": [
            "CPU times: user 107 ms, sys: 19.9 ms, total: 127 ms\n",
            "Wall time: 130 ms\n"
          ],
          "name": "stdout"
        }
      ]
    },
    {
      "cell_type": "markdown",
      "metadata": {
        "id": "6Q6sY7HxWNvr"
      },
      "source": [
        "My results were\n",
        "\n",
        "    CPU times: user 92.1 ms, sys: 11.5 ms, total: 104 ms\n",
        "    Wall time: 102 ms\n",
        "\n",
        "#### the Numpy way"
      ]
    },
    {
      "cell_type": "code",
      "metadata": {
        "id": "_Vq2WbCRWNvr",
        "colab": {
          "base_uri": "https://localhost:8080/"
        },
        "outputId": "6692c1e7-2f93-4275-a883-953ed99c7dd3"
      },
      "source": [
        "%time arr = np.arange(1000000).reshape((1000,1000))"
      ],
      "execution_count": 10,
      "outputs": [
        {
          "output_type": "stream",
          "text": [
            "CPU times: user 0 ns, sys: 3.8 ms, total: 3.8 ms\n",
            "Wall time: 4.85 ms\n"
          ],
          "name": "stdout"
        }
      ]
    },
    {
      "cell_type": "markdown",
      "metadata": {
        "id": "m2FUfd6tWNvr"
      },
      "source": [
        "What are your results?\n",
        "\n",
        "<h3 style=\"color:red\">Q1. Speed</h3>\n",
        "<span style=\"color:red\">Suppose I want to create an array with 10,000 by 10,000 cells. Then I want to add 1 to each cell. How much time does this take using generic Python arrays and using Numpy arrays?</span>\n",
        "\n",
        "#### in Python\n",
        "(be patient -- this may take a number of seconds)"
      ]
    },
    {
      "cell_type": "code",
      "metadata": {
        "collapsed": true,
        "colab": {
          "base_uri": "https://localhost:8080/"
        },
        "id": "rbjU6Lj_WNvs",
        "outputId": "b24dbf86-3015-41f2-f8fd-76144a20760b"
      },
      "source": [
        "q1= [[x + y * 10000 for x in range(10000)] for y in range(10000)]\r\n",
        "def q1add(sizeof):\r\n",
        "    for x in range(sizeof):\r\n",
        "        for y in range(sizeof):\r\n",
        "            q1[x][y] = q1[x][y] + 1\r\n",
        "%time q1add(10000)"
      ],
      "execution_count": 11,
      "outputs": [
        {
          "output_type": "stream",
          "text": [
            "CPU times: user 12.4 s, sys: 5.45 ms, total: 12.4 s\n",
            "Wall time: 12.5 s\n"
          ],
          "name": "stdout"
        }
      ]
    },
    {
      "cell_type": "markdown",
      "metadata": {
        "id": "BZfBJa2rWNvs"
      },
      "source": [
        "#### in Numpy"
      ]
    },
    {
      "cell_type": "code",
      "metadata": {
        "collapsed": true,
        "colab": {
          "base_uri": "https://localhost:8080/"
        },
        "id": "FxPSP7DFWNvs",
        "outputId": "4b74cbd5-a0fb-47f1-e70c-4bb9bc521c09"
      },
      "source": [
        "q1numpy=np.arange(100000000).reshape((10000,10000))\r\n",
        "q1num=q1numpy+1\r\n",
        "%time q1num"
      ],
      "execution_count": 12,
      "outputs": [
        {
          "output_type": "stream",
          "text": [
            "CPU times: user 3 µs, sys: 0 ns, total: 3 µs\n",
            "Wall time: 5.25 µs\n"
          ],
          "name": "stdout"
        },
        {
          "output_type": "execute_result",
          "data": {
            "text/plain": [
              "array([[        1,         2,         3, ...,      9998,      9999,\n",
              "            10000],\n",
              "       [    10001,     10002,     10003, ...,     19998,     19999,\n",
              "            20000],\n",
              "       [    20001,     20002,     20003, ...,     29998,     29999,\n",
              "            30000],\n",
              "       ...,\n",
              "       [ 99970001,  99970002,  99970003, ...,  99979998,  99979999,\n",
              "         99980000],\n",
              "       [ 99980001,  99980002,  99980003, ...,  99989998,  99989999,\n",
              "         99990000],\n",
              "       [ 99990001,  99990002,  99990003, ...,  99999998,  99999999,\n",
              "        100000000]])"
            ]
          },
          "metadata": {
            "tags": []
          },
          "execution_count": 12
        }
      ]
    },
    {
      "cell_type": "markdown",
      "metadata": {
        "id": "B9lek1lbWNvs"
      },
      "source": [
        "### built in functions\n",
        "In addition to being faster, numpy has a wide range of built in functions. So, for example, instead of you writing code to calculate the mean or sum or standard deviation of a multidimensional array you can just use numpy:"
      ]
    },
    {
      "cell_type": "code",
      "metadata": {
        "colab": {
          "base_uri": "https://localhost:8080/"
        },
        "id": "enkz2vZfWNvs",
        "outputId": "1df0b76d-ebf2-4a43-8c00-5fcb65338562"
      },
      "source": [
        "arr.mean()"
      ],
      "execution_count": 13,
      "outputs": [
        {
          "output_type": "execute_result",
          "data": {
            "text/plain": [
              "499999.5"
            ]
          },
          "metadata": {
            "tags": []
          },
          "execution_count": 13
        }
      ]
    },
    {
      "cell_type": "code",
      "metadata": {
        "colab": {
          "base_uri": "https://localhost:8080/"
        },
        "id": "INAgHlxbWNvt",
        "outputId": "6e9898e0-b665-4388-9e0a-7555680f9c0b"
      },
      "source": [
        "arr.sum()"
      ],
      "execution_count": 14,
      "outputs": [
        {
          "output_type": "execute_result",
          "data": {
            "text/plain": [
              "499999500000"
            ]
          },
          "metadata": {
            "tags": []
          },
          "execution_count": 14
        }
      ]
    },
    {
      "cell_type": "code",
      "metadata": {
        "colab": {
          "base_uri": "https://localhost:8080/"
        },
        "id": "iYdZ3Qd2WNvt",
        "outputId": "f8e9cc3a-105b-4e53-b566-ed4017683efc"
      },
      "source": [
        " arr.std()"
      ],
      "execution_count": 15,
      "outputs": [
        {
          "output_type": "execute_result",
          "data": {
            "text/plain": [
              "288675.1345946685"
            ]
          },
          "metadata": {
            "tags": []
          },
          "execution_count": 15
        }
      ]
    },
    {
      "cell_type": "markdown",
      "metadata": {
        "id": "uAmi5KGHWNvt"
      },
      "source": [
        "So not only is it faster, but it minimizes the code you have to write. A win, win.\n",
        "\n",
        "Let's continue with some basics."
      ]
    },
    {
      "cell_type": "markdown",
      "metadata": {
        "id": "tOTA7QhQWNvt"
      },
      "source": [
        "## numpy examined \n",
        "So Numpy is a library containing a super-fast n-dimensional array object and a load of functions that can operate on those arrays. To use numpy, we must first load the library into our code and we do that with the statement:\n"
      ]
    },
    {
      "cell_type": "code",
      "metadata": {
        "collapsed": true,
        "id": "yhV7st66WNvu"
      },
      "source": [
        " import numpy as np"
      ],
      "execution_count": 16,
      "outputs": []
    },
    {
      "cell_type": "markdown",
      "metadata": {
        "id": "L9vVNS8wWNvu"
      },
      "source": [
        "Perhaps most of you are saying \"fine, fine, I know this already\", but let me catch others up to speed. This is just one of several ways we can load a library into Python. We could just say:"
      ]
    },
    {
      "cell_type": "code",
      "metadata": {
        "collapsed": true,
        "id": "73D0AEy0WNvu"
      },
      "source": [
        " import numpy"
      ],
      "execution_count": 17,
      "outputs": []
    },
    {
      "cell_type": "markdown",
      "metadata": {
        "id": "QocHcYWDWNvu"
      },
      "source": [
        "and everytime we need to use one of the functions built in\n",
        "to numpy we would need to preface that function with `numpy` . So for example, we could create an array with\n"
      ]
    },
    {
      "cell_type": "code",
      "metadata": {
        "collapsed": true,
        "id": "4Gex2B5wWNvu"
      },
      "source": [
        "arr = numpy.array([1, 2, 3, 4, 5])"
      ],
      "execution_count": 18,
      "outputs": []
    },
    {
      "cell_type": "markdown",
      "metadata": {
        "id": "EYXhyaIQWNvu"
      },
      "source": [
        "If we got tired of writing `numpy` in front of every function, instead of typing"
      ]
    },
    {
      "cell_type": "code",
      "metadata": {
        "collapsed": true,
        "id": "v9KsfIH8WNvv"
      },
      "source": [
        "import numpy"
      ],
      "execution_count": 19,
      "outputs": []
    },
    {
      "cell_type": "markdown",
      "metadata": {
        "id": "SBrVY5DyWNvv"
      },
      "source": [
        "we could write:"
      ]
    },
    {
      "cell_type": "code",
      "metadata": {
        "collapsed": true,
        "id": "7x8rZx00WNvv"
      },
      "source": [
        "from numpy import *"
      ],
      "execution_count": 20,
      "outputs": []
    },
    {
      "cell_type": "markdown",
      "metadata": {
        "id": "x4gVwUENWNvv"
      },
      "source": [
        "(where that * means 'everything' and the whole expression means import everything from the numpy library).  Now we can use any numpy function without putting numpy in front of it:"
      ]
    },
    {
      "cell_type": "code",
      "metadata": {
        "collapsed": true,
        "id": "Z4JJhqTkWNvw"
      },
      "source": [
        "arr = array([1, 2, 3, 4, 5])"
      ],
      "execution_count": 21,
      "outputs": []
    },
    {
      "cell_type": "markdown",
      "metadata": {
        "id": "KYNqTp78WNvw"
      },
      "source": [
        "This may at first seem like a good idea, but it is considered bad form by Python developers. \n",
        "\n",
        "The solution is to use what we initially introduced:"
      ]
    },
    {
      "cell_type": "code",
      "metadata": {
        "collapsed": true,
        "id": "khvG36C2WNvw"
      },
      "source": [
        " import numpy as np"
      ],
      "execution_count": 22,
      "outputs": []
    },
    {
      "cell_type": "markdown",
      "metadata": {
        "id": "RK-_u8lkWNvw"
      },
      "source": [
        "this makes `np` an alias for numpy. so now we would put *np* in front of numpy functions."
      ]
    },
    {
      "cell_type": "code",
      "metadata": {
        "collapsed": true,
        "id": "Nb-nYgJLWNvx"
      },
      "source": [
        " arr = np.array([1, 2, 3, 4, 5])"
      ],
      "execution_count": 23,
      "outputs": []
    },
    {
      "cell_type": "markdown",
      "metadata": {
        "id": "D_yWvJZkWNvx"
      },
      "source": [
        "Of course we could use anything as an alias for numpy:"
      ]
    },
    {
      "cell_type": "code",
      "metadata": {
        "collapsed": true,
        "id": "pQWlbmxBWNvy"
      },
      "source": [
        "import numpy as myCoolSneakers\n",
        "arr = myCoolSneakers.array([1, 2, 3, 4, 5])\n"
      ],
      "execution_count": 24,
      "outputs": []
    },
    {
      "cell_type": "markdown",
      "metadata": {
        "id": "PppeijQzWNvy"
      },
      "source": [
        "But it is convention among data scientists, machine learning experts, and the cool kids to use np.  One big benefit of this convention is that it makes the code you write more understandable to others and vice versa (I don't need to be scouring your code to find out what `myCoolSneakers.array` does)\n",
        "\n",
        "## creating arrays\n",
        "\n",
        "An Array in Numpy is called an `ndarray` for n-dimensional array.  As we will see, they share some similarities with Python lists. We have already seen how to create one:"
      ]
    },
    {
      "cell_type": "code",
      "metadata": {
        "collapsed": true,
        "id": "wMp9WRnyWNvy"
      },
      "source": [
        "arr = np.array([1, 2, 3, 4, 5])"
      ],
      "execution_count": 25,
      "outputs": []
    },
    {
      "cell_type": "markdown",
      "metadata": {
        "id": "uBP4pjFbWNvy"
      },
      "source": [
        "and to display what `arr` equals"
      ]
    },
    {
      "cell_type": "code",
      "metadata": {
        "id": "h_ZvoV0sWNvy",
        "colab": {
          "base_uri": "https://localhost:8080/"
        },
        "outputId": "5dd652ec-e483-4189-8403-647540f021ee"
      },
      "source": [
        "arr"
      ],
      "execution_count": 26,
      "outputs": [
        {
          "output_type": "execute_result",
          "data": {
            "text/plain": [
              "array([1, 2, 3, 4, 5])"
            ]
          },
          "metadata": {
            "tags": []
          },
          "execution_count": 26
        }
      ]
    },
    {
      "cell_type": "markdown",
      "metadata": {
        "id": "ABE5w3IvWNvz"
      },
      "source": [
        "This is a one dimensional array. The position of an element in the array is called the index. The first element of the array is at index 0, the next at index 1 and so on. We can get the item at a particular index by using the syntax:"
      ]
    },
    {
      "cell_type": "code",
      "metadata": {
        "id": "3K7jbsIQWNvz",
        "colab": {
          "base_uri": "https://localhost:8080/"
        },
        "outputId": "9d6f1694-ed7d-4698-d522-7e267b563e51"
      },
      "source": [
        " arr[0]"
      ],
      "execution_count": 27,
      "outputs": [
        {
          "output_type": "execute_result",
          "data": {
            "text/plain": [
              "1"
            ]
          },
          "metadata": {
            "tags": []
          },
          "execution_count": 27
        }
      ]
    },
    {
      "cell_type": "code",
      "metadata": {
        "id": "COnpRQWOWNvz",
        "colab": {
          "base_uri": "https://localhost:8080/"
        },
        "outputId": "0ecece69-00d5-4bb1-c5b1-d675ffbfd0f5"
      },
      "source": [
        "arr[3]"
      ],
      "execution_count": 28,
      "outputs": [
        {
          "output_type": "execute_result",
          "data": {
            "text/plain": [
              "4"
            ]
          },
          "metadata": {
            "tags": []
          },
          "execution_count": 28
        }
      ]
    },
    {
      "cell_type": "markdown",
      "metadata": {
        "id": "mqLWOsjPWNvz"
      },
      "source": [
        "We can create a 2 dimensional array that looks like\n",
        "\n",
        "      10  20  30\n",
        "      40  50  60\n",
        " \n",
        "by:\n"
      ]
    },
    {
      "cell_type": "code",
      "metadata": {
        "collapsed": true,
        "id": "3y8yiuURWNv0"
      },
      "source": [
        " arr = np.array([[10, 20, 30], [40, 50, 60]])"
      ],
      "execution_count": 29,
      "outputs": []
    },
    {
      "cell_type": "markdown",
      "metadata": {
        "id": "53VtWZEMWNv0"
      },
      "source": [
        "and we can show the contents of that array just be using the name of the array, `arr`\n"
      ]
    },
    {
      "cell_type": "code",
      "metadata": {
        "id": "KEbnWcTOWNv0",
        "colab": {
          "base_uri": "https://localhost:8080/"
        },
        "outputId": "2439cf0a-0ad8-462a-a164-aa315ad6c74e"
      },
      "source": [
        "arr"
      ],
      "execution_count": 30,
      "outputs": [
        {
          "output_type": "execute_result",
          "data": {
            "text/plain": [
              "array([[10, 20, 30],\n",
              "       [40, 50, 60]])"
            ]
          },
          "metadata": {
            "tags": []
          },
          "execution_count": 30
        }
      ]
    },
    {
      "cell_type": "markdown",
      "metadata": {
        "id": "0XwGIaOeWNv1"
      },
      "source": [
        "We don't need to name arrays `arr`, we can name them anything we want. "
      ]
    },
    {
      "cell_type": "code",
      "metadata": {
        "collapsed": true,
        "id": "5qGLc5yEWNv1"
      },
      "source": [
        "ratings = np.array([[1, 2, 3], [4, 5, 6], [7, 8, 9]])"
      ],
      "execution_count": 31,
      "outputs": []
    },
    {
      "cell_type": "code",
      "metadata": {
        "id": "Nobj8WgnWNv1",
        "colab": {
          "base_uri": "https://localhost:8080/"
        },
        "outputId": "dfde6504-d2fd-49ff-85b1-a9f3a1863c96"
      },
      "source": [
        "ratings"
      ],
      "execution_count": 32,
      "outputs": [
        {
          "output_type": "execute_result",
          "data": {
            "text/plain": [
              "array([[1, 2, 3],\n",
              "       [4, 5, 6],\n",
              "       [7, 8, 9]])"
            ]
          },
          "metadata": {
            "tags": []
          },
          "execution_count": 32
        }
      ]
    },
    {
      "cell_type": "markdown",
      "metadata": {
        "id": "DP4iEYR9WNv1"
      },
      "source": [
        "So far, we've been creating numpy arrays by using Python lists. We can make that more explicit by first creating the Python list and then using it to create the ndarray:"
      ]
    },
    {
      "cell_type": "code",
      "metadata": {
        "id": "T8ebn-fiWNv1",
        "colab": {
          "base_uri": "https://localhost:8080/"
        },
        "outputId": "26183968-c4d7-4b9b-b9c0-453d191c360c"
      },
      "source": [
        "pythonArray = [[1, 2, 3, 4, 5], [6, 7, 8, 9, 10]]\n",
        "sweet = np.array(pythonArray)\n",
        "sweet"
      ],
      "execution_count": 33,
      "outputs": [
        {
          "output_type": "execute_result",
          "data": {
            "text/plain": [
              "array([[ 1,  2,  3,  4,  5],\n",
              "       [ 6,  7,  8,  9, 10]])"
            ]
          },
          "metadata": {
            "tags": []
          },
          "execution_count": 33
        }
      ]
    },
    {
      "cell_type": "markdown",
      "metadata": {
        "id": "skprR3mGWNv2"
      },
      "source": [
        "We can also create an array of all zeros or all ones directly:"
      ]
    },
    {
      "cell_type": "code",
      "metadata": {
        "id": "ryCLIGqFWNv2",
        "colab": {
          "base_uri": "https://localhost:8080/"
        },
        "outputId": "dc471ebf-01fb-4fbe-ee25-deed3f52c68b"
      },
      "source": [
        "np.zeros(10)"
      ],
      "execution_count": 34,
      "outputs": [
        {
          "output_type": "execute_result",
          "data": {
            "text/plain": [
              "array([0., 0., 0., 0., 0., 0., 0., 0., 0., 0.])"
            ]
          },
          "metadata": {
            "tags": []
          },
          "execution_count": 34
        }
      ]
    },
    {
      "cell_type": "code",
      "metadata": {
        "id": "GQilHHN8WNv2",
        "colab": {
          "base_uri": "https://localhost:8080/"
        },
        "outputId": "35f59754-3808-4dd8-bdc3-0ecef6936816"
      },
      "source": [
        "np.ones((5, 2))"
      ],
      "execution_count": 35,
      "outputs": [
        {
          "output_type": "execute_result",
          "data": {
            "text/plain": [
              "array([[1., 1.],\n",
              "       [1., 1.],\n",
              "       [1., 1.],\n",
              "       [1., 1.],\n",
              "       [1., 1.]])"
            ]
          },
          "metadata": {
            "tags": []
          },
          "execution_count": 35
        }
      ]
    },
    {
      "cell_type": "markdown",
      "metadata": {
        "id": "k_sJvcysWNv2"
      },
      "source": [
        "### indexing\n",
        "Indexing elements in ndarrays works pretty much the same as it does in Python. We have already seen one example, here is another example with a one dimensional array:\n"
      ]
    },
    {
      "cell_type": "code",
      "metadata": {
        "id": "oqZC5RevWNv3",
        "colab": {
          "base_uri": "https://localhost:8080/"
        },
        "outputId": "11d8d1df-6601-43ea-c7c4-f41e3149e868"
      },
      "source": [
        "temperatures = np.array([48, 44, 37, 35, 32, 29, 33, 36, 42])\n",
        "temperatures[0]"
      ],
      "execution_count": 36,
      "outputs": [
        {
          "output_type": "execute_result",
          "data": {
            "text/plain": [
              "48"
            ]
          },
          "metadata": {
            "tags": []
          },
          "execution_count": 36
        }
      ]
    },
    {
      "cell_type": "code",
      "metadata": {
        "id": "BcOaeUA7WNv3",
        "colab": {
          "base_uri": "https://localhost:8080/"
        },
        "outputId": "589e844e-1e45-4a61-c228-f99015931df9"
      },
      "source": [
        "temperatures[3]"
      ],
      "execution_count": 37,
      "outputs": [
        {
          "output_type": "execute_result",
          "data": {
            "text/plain": [
              "35"
            ]
          },
          "metadata": {
            "tags": []
          },
          "execution_count": 37
        }
      ]
    },
    {
      "cell_type": "markdown",
      "metadata": {
        "id": "pDe7uLo3WNv3"
      },
      "source": [
        "and a two dimensional one:"
      ]
    },
    {
      "cell_type": "code",
      "metadata": {
        "id": "nGfO_EmIWNv3",
        "colab": {
          "base_uri": "https://localhost:8080/"
        },
        "outputId": "3809fce9-986d-41e9-d5b6-6dc22fe37418"
      },
      "source": [
        "sample = np.array([[10, 20, 30], [40, 50, 60]])\n",
        "sample[0][1]"
      ],
      "execution_count": 38,
      "outputs": [
        {
          "output_type": "execute_result",
          "data": {
            "text/plain": [
              "20"
            ]
          },
          "metadata": {
            "tags": []
          },
          "execution_count": 38
        }
      ]
    },
    {
      "cell_type": "markdown",
      "metadata": {
        "id": "GR4Jr9IjWNv3"
      },
      "source": [
        "For numpy ndarrays we can also use a comma to separate the indices of multi-dimensional arrays:"
      ]
    },
    {
      "cell_type": "code",
      "metadata": {
        "id": "Hw4pT2WDWNv4",
        "colab": {
          "base_uri": "https://localhost:8080/"
        },
        "outputId": "d4dd10ed-f437-416b-ba5b-1583d2fd11a3"
      },
      "source": [
        "sample[1,2]"
      ],
      "execution_count": 39,
      "outputs": [
        {
          "output_type": "execute_result",
          "data": {
            "text/plain": [
              "60"
            ]
          },
          "metadata": {
            "tags": []
          },
          "execution_count": 39
        }
      ]
    },
    {
      "cell_type": "markdown",
      "metadata": {
        "id": "ltYgImpvWNv4"
      },
      "source": [
        "And, like Python you can also get a slice of an array. First, here is the basic Python example:"
      ]
    },
    {
      "cell_type": "code",
      "metadata": {
        "id": "yZHdUR29WNv4",
        "colab": {
          "base_uri": "https://localhost:8080/"
        },
        "outputId": "947e3aaf-9511-4f42-83a0-a74957f23582"
      },
      "source": [
        "a = [10, 20, 30, 40, 50, 60]\n",
        "b = a[1:4]\n",
        "b"
      ],
      "execution_count": 40,
      "outputs": [
        {
          "output_type": "execute_result",
          "data": {
            "text/plain": [
              "[20, 30, 40]"
            ]
          },
          "metadata": {
            "tags": []
          },
          "execution_count": 40
        }
      ]
    },
    {
      "cell_type": "markdown",
      "metadata": {
        "id": "WctOhofWWNv4"
      },
      "source": [
        "and the similar numpy example:"
      ]
    },
    {
      "cell_type": "code",
      "metadata": {
        "id": "kEE6MlmMWNv5",
        "colab": {
          "base_uri": "https://localhost:8080/"
        },
        "outputId": "1674a878-8b22-4a43-c3a1-04cca0caff07"
      },
      "source": [
        "aarr = np.array(a)\n",
        "barr = aarr[1:4]\n",
        "barr"
      ],
      "execution_count": 41,
      "outputs": [
        {
          "output_type": "execute_result",
          "data": {
            "text/plain": [
              "array([20, 30, 40])"
            ]
          },
          "metadata": {
            "tags": []
          },
          "execution_count": 41
        }
      ]
    },
    {
      "cell_type": "markdown",
      "metadata": {
        "id": "O68NQF9zWNv5"
      },
      "source": [
        "### Something  wacky to remember\n",
        "But there is a difference between Python arrays and numpy ndarrays. If I alter the array `b` in Python the orginal `a` array is not altered:"
      ]
    },
    {
      "cell_type": "code",
      "metadata": {
        "collapsed": true,
        "id": "MvnKMfbDWNv5"
      },
      "source": [
        "b[1] = b[1] + 5"
      ],
      "execution_count": 42,
      "outputs": []
    },
    {
      "cell_type": "code",
      "metadata": {
        "id": "Hdrh6Lw9WNv5",
        "colab": {
          "base_uri": "https://localhost:8080/"
        },
        "outputId": "e76064db-54d7-4489-f58b-3c2bdcd09467"
      },
      "source": [
        "b"
      ],
      "execution_count": 43,
      "outputs": [
        {
          "output_type": "execute_result",
          "data": {
            "text/plain": [
              "[20, 35, 40]"
            ]
          },
          "metadata": {
            "tags": []
          },
          "execution_count": 43
        }
      ]
    },
    {
      "cell_type": "code",
      "metadata": {
        "id": "RIAKpxJoWNv5",
        "colab": {
          "base_uri": "https://localhost:8080/"
        },
        "outputId": "228fbfc0-95c4-49e2-a534-c49cacb1b4fe"
      },
      "source": [
        "a"
      ],
      "execution_count": 44,
      "outputs": [
        {
          "output_type": "execute_result",
          "data": {
            "text/plain": [
              "[10, 20, 30, 40, 50, 60]"
            ]
          },
          "metadata": {
            "tags": []
          },
          "execution_count": 44
        }
      ]
    },
    {
      "cell_type": "markdown",
      "metadata": {
        "id": "oex4hbwzWNv6"
      },
      "source": [
        "but if we do the same in numpy:"
      ]
    },
    {
      "cell_type": "code",
      "metadata": {
        "id": "Qk_knwVXWNv6"
      },
      "source": [
        "barr[1] = barr[1] + 5"
      ],
      "execution_count": 45,
      "outputs": []
    },
    {
      "cell_type": "code",
      "metadata": {
        "id": "XBkipTn3WNv6",
        "colab": {
          "base_uri": "https://localhost:8080/"
        },
        "outputId": "967c3f74-9a85-422f-e755-9c95f6655318"
      },
      "source": [
        "barr"
      ],
      "execution_count": 46,
      "outputs": [
        {
          "output_type": "execute_result",
          "data": {
            "text/plain": [
              "array([20, 35, 40])"
            ]
          },
          "metadata": {
            "tags": []
          },
          "execution_count": 46
        }
      ]
    },
    {
      "cell_type": "code",
      "metadata": {
        "id": "52OfD413WNv6",
        "colab": {
          "base_uri": "https://localhost:8080/"
        },
        "outputId": "4794e814-c287-4546-c3a6-5760f3f29703"
      },
      "source": [
        "aarr"
      ],
      "execution_count": 47,
      "outputs": [
        {
          "output_type": "execute_result",
          "data": {
            "text/plain": [
              "array([10, 20, 35, 40, 50, 60])"
            ]
          },
          "metadata": {
            "tags": []
          },
          "execution_count": 47
        }
      ]
    },
    {
      "cell_type": "markdown",
      "metadata": {
        "id": "yBrO7XffWNv6"
      },
      "source": [
        "we see that the original array is altered since we modified the slice. This may seem wacky to you, or maybe it doesn't. In any case, it is something you will get used to. For now, just be aware of this. \n",
        "\n",
        "## functions on arrays\n",
        "\n",
        "Numpy has a wide range of array functons. Here is just a sample.\n",
        "\n",
        "### Unary functions\n",
        "\n",
        "#### absolute value"
      ]
    },
    {
      "cell_type": "code",
      "metadata": {
        "id": "NsxdlC7eWNv7",
        "colab": {
          "base_uri": "https://localhost:8080/"
        },
        "outputId": "b6549b4d-b68e-47a9-9476-68d56233b63d"
      },
      "source": [
        "arr = np.array([-2, 12, -25, 0])\n",
        "arr2 = np.abs(arr)\n",
        "arr2"
      ],
      "execution_count": 48,
      "outputs": [
        {
          "output_type": "execute_result",
          "data": {
            "text/plain": [
              "array([ 2, 12, 25,  0])"
            ]
          },
          "metadata": {
            "tags": []
          },
          "execution_count": 48
        }
      ]
    },
    {
      "cell_type": "code",
      "metadata": {
        "id": "ql3zS_JiWNv7",
        "colab": {
          "base_uri": "https://localhost:8080/"
        },
        "outputId": "fa81c77f-8613-48ac-b1f8-6f401abe12ca"
      },
      "source": [
        "arr = np.array([[-2, 12], [-25, 0]])\n",
        "arr2 = np.abs(arr)\n",
        "arr2               "
      ],
      "execution_count": 49,
      "outputs": [
        {
          "output_type": "execute_result",
          "data": {
            "text/plain": [
              "array([[ 2, 12],\n",
              "       [25,  0]])"
            ]
          },
          "metadata": {
            "tags": []
          },
          "execution_count": 49
        }
      ]
    },
    {
      "cell_type": "markdown",
      "metadata": {
        "id": "RS7tElp1WNv8"
      },
      "source": [
        "#### square"
      ]
    },
    {
      "cell_type": "code",
      "metadata": {
        "id": "CWaFNNAMWNv8",
        "colab": {
          "base_uri": "https://localhost:8080/"
        },
        "outputId": "f992c69e-4301-439b-c273-a1e5ffb31375"
      },
      "source": [
        "arr = np.array([-1, 2, -3, 4])\n",
        "arr2 = np.square(arr)\n",
        "arr2"
      ],
      "execution_count": 50,
      "outputs": [
        {
          "output_type": "execute_result",
          "data": {
            "text/plain": [
              "array([ 1,  4,  9, 16])"
            ]
          },
          "metadata": {
            "tags": []
          },
          "execution_count": 50
        }
      ]
    },
    {
      "cell_type": "markdown",
      "metadata": {
        "id": "QyY72KHpWNv8"
      },
      "source": [
        "#### squareroot"
      ]
    },
    {
      "cell_type": "code",
      "metadata": {
        "id": "ka4aHXuxWNv8",
        "colab": {
          "base_uri": "https://localhost:8080/"
        },
        "outputId": "77bfcccf-111f-4666-ecf2-aa758d46d1ff"
      },
      "source": [
        "arr = np.array([[4, 9], [16, 25]])\n",
        "arr2 = np.sqrt(arr)\n",
        "arr2"
      ],
      "execution_count": 51,
      "outputs": [
        {
          "output_type": "execute_result",
          "data": {
            "text/plain": [
              "array([[2., 3.],\n",
              "       [4., 5.]])"
            ]
          },
          "metadata": {
            "tags": []
          },
          "execution_count": 51
        }
      ]
    },
    {
      "cell_type": "markdown",
      "metadata": {
        "id": "OMVpvXTkWNv8"
      },
      "source": [
        "## Binary functions\n",
        "\n",
        "#### add /subtract / multiply / divide\n"
      ]
    },
    {
      "cell_type": "code",
      "metadata": {
        "id": "FSDsS5KcWNv9",
        "colab": {
          "base_uri": "https://localhost:8080/"
        },
        "outputId": "f4c40b06-89a3-4254-82c8-718e3c63f74d"
      },
      "source": [
        "arr1 = np.array([[10, 20], [30, 40]])\n",
        "arr2 = np.array([[1, 2], [3, 4]])\n",
        "np.add(arr1, arr2)"
      ],
      "execution_count": 52,
      "outputs": [
        {
          "output_type": "execute_result",
          "data": {
            "text/plain": [
              "array([[11, 22],\n",
              "       [33, 44]])"
            ]
          },
          "metadata": {
            "tags": []
          },
          "execution_count": 52
        }
      ]
    },
    {
      "cell_type": "code",
      "metadata": {
        "id": "K5aCaqQfWNv9",
        "colab": {
          "base_uri": "https://localhost:8080/"
        },
        "outputId": "f4a0c31f-d394-41fe-ed10-5611323c08ff"
      },
      "source": [
        "np.subtract(arr1, arr2)"
      ],
      "execution_count": 53,
      "outputs": [
        {
          "output_type": "execute_result",
          "data": {
            "text/plain": [
              "array([[ 9, 18],\n",
              "       [27, 36]])"
            ]
          },
          "metadata": {
            "tags": []
          },
          "execution_count": 53
        }
      ]
    },
    {
      "cell_type": "code",
      "metadata": {
        "id": "XRQ02FIKWNv9",
        "colab": {
          "base_uri": "https://localhost:8080/"
        },
        "outputId": "0059175e-d5c9-4c93-8f46-e1eab60ada6c"
      },
      "source": [
        "np.multiply(arr1, arr2)"
      ],
      "execution_count": 54,
      "outputs": [
        {
          "output_type": "execute_result",
          "data": {
            "text/plain": [
              "array([[ 10,  40],\n",
              "       [ 90, 160]])"
            ]
          },
          "metadata": {
            "tags": []
          },
          "execution_count": 54
        }
      ]
    },
    {
      "cell_type": "code",
      "metadata": {
        "id": "Y9njLjRaWNv9",
        "colab": {
          "base_uri": "https://localhost:8080/"
        },
        "outputId": "0d6ce6aa-b346-4873-ecd7-dfc971d9b668"
      },
      "source": [
        "np.divide(arr1, arr2)"
      ],
      "execution_count": 55,
      "outputs": [
        {
          "output_type": "execute_result",
          "data": {
            "text/plain": [
              "array([[10., 10.],\n",
              "       [10., 10.]])"
            ]
          },
          "metadata": {
            "tags": []
          },
          "execution_count": 55
        }
      ]
    },
    {
      "cell_type": "markdown",
      "metadata": {
        "id": "XPCLjZkIWNv-"
      },
      "source": [
        "#### maximum / minimum\n"
      ]
    },
    {
      "cell_type": "code",
      "metadata": {
        "id": "G76TVsVhWNv-",
        "colab": {
          "base_uri": "https://localhost:8080/"
        },
        "outputId": "eaba5e71-61cb-4b75-beac-548da9572556"
      },
      "source": [
        "arr1 = np.array([[10, 2], [3, 40]])\n",
        "arr2 = np.array([[1, 20], [30, 4]])\n",
        "np.maximum(arr1, arr2)"
      ],
      "execution_count": 56,
      "outputs": [
        {
          "output_type": "execute_result",
          "data": {
            "text/plain": [
              "array([[10, 20],\n",
              "       [30, 40]])"
            ]
          },
          "metadata": {
            "tags": []
          },
          "execution_count": 56
        }
      ]
    },
    {
      "cell_type": "markdown",
      "metadata": {
        "id": "NsraeekOWNv-"
      },
      "source": [
        "#### these are just examples. There are more unary and binary functions"
      ]
    },
    {
      "cell_type": "markdown",
      "metadata": {
        "id": "roD0Td2WWNv-"
      },
      "source": [
        "## Numpy Uber\n",
        "lets say I have Uber drivers at various intersections around Austin. I will represent that as a set of x,y coordinates.\n",
        "\n",
        " | Driver |xPos | yPos |\n",
        " | :---: | :---: | :---: |\n",
        " | Ann | 4 | 5 |\n",
        " | Clara | 6 | 6 |\n",
        " | Dora | 3 | 1 |\n",
        " | Erica | 9 | 5 |\n",
        " \n",
        " \n",
        " Now I would like to find the closest driver to a customer who is at 6, 3.\n",
        " And to further define *closest* I am going to use what is called **Manhattan Distance**. Roughly put, Manhattan distance is distance if you followed streets. Ann, for example, is two blocks West of our customer and two blocks north. So the Manhattan distance from Ann to our customer is `2+2` or `4`. \n",
        " \n",
        " First, to make things easy (and because the data in a numpy array must be of the same type), I will represent the x and y positions in one numpy array and the driver names in another:"
      ]
    },
    {
      "cell_type": "code",
      "metadata": {
        "colab": {
          "base_uri": "https://localhost:8080/"
        },
        "id": "9ZjQNDbiWNv-",
        "outputId": "71d956bd-38a1-4c13-cdec-a7be89833370"
      },
      "source": [
        "locations = np.array([[4, 5], [6, 6], [3, 1], [9,5]])\n",
        "locations"
      ],
      "execution_count": 57,
      "outputs": [
        {
          "output_type": "execute_result",
          "data": {
            "text/plain": [
              "array([[4, 5],\n",
              "       [6, 6],\n",
              "       [3, 1],\n",
              "       [9, 5]])"
            ]
          },
          "metadata": {
            "tags": []
          },
          "execution_count": 57
        }
      ]
    },
    {
      "cell_type": "code",
      "metadata": {
        "collapsed": true,
        "id": "9a1YT7QyWNv_"
      },
      "source": [
        "drivers = np.array([\"Ann\", \"Clara\", \"Dora\", \"Erica\"])"
      ],
      "execution_count": 58,
      "outputs": []
    },
    {
      "cell_type": "markdown",
      "metadata": {
        "id": "4HgauRWVWNv_"
      },
      "source": [
        "Our customer is at"
      ]
    },
    {
      "cell_type": "code",
      "metadata": {
        "collapsed": true,
        "id": "98jn9P6bWNv_"
      },
      "source": [
        "cust = np.array([6, 3])"
      ],
      "execution_count": 59,
      "outputs": []
    },
    {
      "cell_type": "markdown",
      "metadata": {
        "id": "87noZ38pWNv_"
      },
      "source": [
        "now we are going to figure out the distance between each of our drivers and the customer"
      ]
    },
    {
      "cell_type": "code",
      "metadata": {
        "colab": {
          "base_uri": "https://localhost:8080/"
        },
        "id": "P_dM2mjLWNv_",
        "outputId": "2117e616-499c-4d45-dcd8-3c8f0208b868"
      },
      "source": [
        "xydiff = locations - cust\n",
        "xydiff"
      ],
      "execution_count": 60,
      "outputs": [
        {
          "output_type": "execute_result",
          "data": {
            "text/plain": [
              "array([[-2,  2],\n",
              "       [ 0,  3],\n",
              "       [-3, -2],\n",
              "       [ 3,  2]])"
            ]
          },
          "metadata": {
            "tags": []
          },
          "execution_count": 60
        }
      ]
    },
    {
      "cell_type": "markdown",
      "metadata": {
        "id": "8ueRBs-NWNwA"
      },
      "source": [
        "NOTE: displaying the results with `xydiff` isn't a necessary step. I just like seeing intermediate results.\n",
        "\n",
        "Ok. now I am goint to sum the absolute values:"
      ]
    },
    {
      "cell_type": "code",
      "metadata": {
        "colab": {
          "base_uri": "https://localhost:8080/"
        },
        "id": "dsJnWYiqWNwA",
        "outputId": "8a501daa-30cc-42d9-95cf-5622313f83e5"
      },
      "source": [
        "distances =np.abs(xydiff).sum(axis = 1)\n",
        "distances"
      ],
      "execution_count": 61,
      "outputs": [
        {
          "output_type": "execute_result",
          "data": {
            "text/plain": [
              "array([4, 3, 5, 5])"
            ]
          },
          "metadata": {
            "tags": []
          },
          "execution_count": 61
        }
      ]
    },
    {
      "cell_type": "markdown",
      "metadata": {
        "id": "hL4WhmkfWNwA"
      },
      "source": [
        "So the output is the array `[4, 3, 5, 5]` which shows that Ann is 4 away from our customer; Clara is 3 away and so on.\n",
        "\n",
        "Now I am going to sort these using `argsort`:"
      ]
    },
    {
      "cell_type": "code",
      "metadata": {
        "colab": {
          "base_uri": "https://localhost:8080/"
        },
        "id": "dWaqdZQxWNwA",
        "outputId": "bf078cd8-fd8d-47cb-9e4d-e160cb2f8dfd"
      },
      "source": [
        "sorted = np.argsort(distances)\n",
        "sorted"
      ],
      "execution_count": 62,
      "outputs": [
        {
          "output_type": "execute_result",
          "data": {
            "text/plain": [
              "array([1, 0, 2, 3])"
            ]
          },
          "metadata": {
            "tags": []
          },
          "execution_count": 62
        }
      ]
    },
    {
      "cell_type": "markdown",
      "metadata": {
        "id": "nH7tJdTgWNwA"
      },
      "source": [
        "`argsort` returns an array of sorted indices. So the element at position 1 is the smallest followed by the element at position 0 and so on.\n",
        "\n",
        "Next, I am going to get the first element of that array (in this case 1) and find the name of the driver at that position in the `drivers` array"
      ]
    },
    {
      "cell_type": "code",
      "metadata": {
        "colab": {
          "base_uri": "https://localhost:8080/",
          "height": 34
        },
        "id": "Rb47g4CmWNwB",
        "outputId": "157455d9-cd73-4f21-df48-258667cbd627"
      },
      "source": [
        "drivers[sorted[0]]"
      ],
      "execution_count": 63,
      "outputs": [
        {
          "output_type": "execute_result",
          "data": {
            "application/vnd.google.colaboratory.intrinsic+json": {
              "type": "string"
            },
            "text/plain": [
              "'Clara'"
            ]
          },
          "metadata": {
            "tags": []
          },
          "execution_count": 63
        }
      ]
    },
    {
      "cell_type": "markdown",
      "metadata": {
        "id": "x0uIsnPzWNwB"
      },
      "source": [
        "<h3 style=\"color:red\">Q2. You Try</h3>\n",
        "<span style=\"color:red\">Can you put all the above in a function. that takes 3 arguments, the location array, the array containing the names of the drivers, and the array containing the location of the customer. It should return the name of the closest driver.</span>\n"
      ]
    },
    {
      "cell_type": "code",
      "metadata": {
        "colab": {
          "base_uri": "https://localhost:8080/"
        },
        "id": "eg88-lB3WNwB",
        "outputId": "afa8b79b-d9ee-477d-8e97-079007c5be48"
      },
      "source": [
        "def findDriver(locations, drivers, customerArr):\n",
        "   result = drivers[np.argsort(np.abs(locations-cust).sum(axis=1))[0]]\n",
        "   return result\n",
        "locations=np.array([[4,5],[6,6],[3,1],[9,5]])\n",
        "drivers=np.array([\"Ann\",\"Clare\",\"Dora\",\"Erica\"])\n",
        "cust=np.array([6,3])\n",
        " \n",
        "print(findDriver(locations, drivers, cust)) # this should return Clara"
      ],
      "execution_count": 64,
      "outputs": [
        {
          "output_type": "stream",
          "text": [
            "Clare\n"
          ],
          "name": "stdout"
        }
      ]
    },
    {
      "cell_type": "markdown",
      "metadata": {
        "id": "Xt_TIT9QWNwB"
      },
      "source": [
        "### CONGRATULATIONS\n",
        "\n",
        "Even though this is just an intro to Numpy, I am going to throw some math at you. So far we have been looking at a two dimensional example, x and y (or North-South and East-West) and our distance formula for the distance, Dist between Ann, A and Customer C is\n",
        "\n",
        "$$ DIST_{AC} = |A_x - C_x | + |A_y - C_y | $$\n",
        "\n",
        "Now I am going to warp this a bit. In this example, each driver is represented by an array (as is the customer) So, Ann is represented by `[1,2]` and the customer by `[3,4]`. So Ann's 0th element is 1 and the customer's 0th element is 3. And, sorry, computer science people start counting at 0 but math people (and all other normal people) start at 1 so we  can rewrite the above formula as:\n",
        "\n",
        "$$ DIST_{AC} = |A_1 - C_1 | + |A_2 - C_2 | $$\n",
        "\n",
        "That's the distance formula for Ann and the Customer. We can make the formula by saying the distance between and two people, let's call them *x* and *y* is\n",
        "\n",
        "\n",
        "$$ DIST_{xy} = |x_1 - y_1 | + |x_2 - y_2 | $$\n",
        "\n",
        "That is the formula for  2 dimensional Manhattan Distance. We can imagine a three dimensional case.  \n",
        "\n",
        "$$ DIST_{xy} = |x_1 - y_1 | + |x_2 - y_2 | + |x_3 - y_3 | $$\n",
        "\n",
        "and we can generalize the formula to the n-dimensional case.\n",
        " \n",
        "$$ DIST_{xy}=\\sum_{i=1}^n |x_i - y_i| $$\n",
        "\n",
        "Just in time for a five dimensional example:\n",
        "\n",
        "\n",
        "# The Amazing 5D Music example\n",
        "\n",
        "Guests went into a listening booth and rated the following tunes:\n",
        "\n",
        "* [Janelle Monae Tightrope](https://www.youtube.com/watch?v=pwnefUaKCbc)\n",
        "* [Major Lazer - Cold Water](https://www.youtube.com/watch?v=nBtDsQ4fhXY)\n",
        "* [Tim McGraw - Humble & Kind](https://www.youtube.com/watch?v=awzNHuGqoMc)\n",
        "* [Maren Morris - My Church](https://www.youtube.com/watch?v=ouWQ25O-Mcg)\n",
        "* [Hailee Steinfeld - Starving](https://www.youtube.com/watch?v=xwjwCFZpdns)\n",
        "\n",
        "\n",
        "Here are the results:\n",
        "\n",
        "| Guest  | Janelle Monae  | Major Lazer  | Tim McGraw  |  Maren Morris | Hailee Steinfeld| \n",
        "|---|---|---|---|---|---|\n",
        "|  Ann | 4  |  5 | 2  |  1 | 3 |\n",
        "| Ben  |  3 |  1 |  5 | 4  | 2|\n",
        "| Jordyn  | 5  |  5 | 2  | 2  | 3|\n",
        "|  Sam | 4 | 1 | 4 | 4 | 1|\n",
        "| Hyunseo | 1 | 1 | 5 | 4 | 1 |\n",
        "| Ahmed | 4 | 5 | 3 |  3 | 1 |\n",
        "\n",
        "So Ann, for example, really liked Major Lazer and Janelle Monae but didn't care much for Maren Morris.\n",
        "\n",
        "Let's set up a few numpy arrays.\n"
      ]
    },
    {
      "cell_type": "code",
      "metadata": {
        "id": "CMMf1eBCWNwB"
      },
      "source": [
        "customers = np.array([[4, 5, 2, 1, 3],\n",
        "                      [3, 1, 5, 4, 2],\n",
        "                      [5, 5, 2, 2, 3],\n",
        "                      [4, 1, 4, 4, 1], \n",
        "                      [1, 1, 5, 4, 1],\n",
        "                      [4, 5, 3, 3, 1]])\n",
        "\n",
        "customerNames = np.array([\"Ann\", \"Ben\", 'Jordyn', \"Sam\", \"Hyunseo\", \"Ahmed\"])\n",
        "\n"
      ],
      "execution_count": 65,
      "outputs": []
    },
    {
      "cell_type": "markdown",
      "metadata": {
        "id": "mX2_rubWWNwB"
      },
      "source": [
        "Now let's set up a few new customers:"
      ]
    },
    {
      "cell_type": "code",
      "metadata": {
        "id": "WwducQYFWNwC"
      },
      "source": [
        "mikaela = np.array([3, 2, 4, 5, 4])\n",
        "brandon = np.array([4, 5, 1, 2, 3])"
      ],
      "execution_count": 66,
      "outputs": []
    },
    {
      "cell_type": "markdown",
      "metadata": {
        "id": "cOVzhhPEWNwC"
      },
      "source": [
        "Now we would like to determine  which of our current customers is closest to Mikaela and which to Brandon.\n",
        "<h3 style=\"color:red\">Q3. You Try</h3>\n",
        "<span style=\"color:red\">Can you write a function findClosest that takes 3 arguments: customers, customerNames, and an array representing one customer's ratings and returns the name of the closest customer?</span>\n",
        "\n",
        "Let's break this down a bit.\n",
        "\n",
        "1. Which line in the Numpy Uber section above will create a new array which is the result of subtracting the Mikaela array from each row of the customers array resulting in\n",
        "\n",
        "```\n",
        "array([[ 1,  3, -2, -4, -1],\n",
        "       [ 0, -1,  1, -1, -2],\n",
        "       [ 2,  3, -2, -3, -1],\n",
        "       [ 1, -1,  0, -1, -3],\n",
        "       [-2, -1,  1, -1, -3],\n",
        "       [ 1,  3, -1, -2, -3]])\n",
        "       ```\n"
      ]
    },
    {
      "cell_type": "code",
      "metadata": {
        "id": "cTnf6-JBWNwC",
        "colab": {
          "base_uri": "https://localhost:8080/"
        },
        "outputId": "f2ba78be-be50-467d-a2ab-b362a2a41881"
      },
      "source": [
        "differences=customers-mikaela\n",
        "differences"
      ],
      "execution_count": 67,
      "outputs": [
        {
          "output_type": "execute_result",
          "data": {
            "text/plain": [
              "array([[ 1,  3, -2, -4, -1],\n",
              "       [ 0, -1,  1, -1, -2],\n",
              "       [ 2,  3, -2, -3, -1],\n",
              "       [ 1, -1,  0, -1, -3],\n",
              "       [-2, -1,  1, -1, -3],\n",
              "       [ 1,  3, -1, -2, -3]])"
            ]
          },
          "metadata": {
            "tags": []
          },
          "execution_count": 67
        }
      ]
    },
    {
      "cell_type": "markdown",
      "metadata": {
        "id": "lkxuxL08WNwC"
      },
      "source": [
        "2. Which line above will take the array you created and generate a single integer distance for each row representing how far away that row is from Mikaela?  The results will look like:\n",
        "\n",
        "```\n",
        "    array([11,  5, 11,  6,  8, 10])\n",
        "```"
      ]
    },
    {
      "cell_type": "code",
      "metadata": {
        "id": "RF81o8vkWNwC",
        "colab": {
          "base_uri": "https://localhost:8080/"
        },
        "outputId": "f624f8ce-dbec-4acb-8fe2-c4f863c644d8"
      },
      "source": [
        "distances=np.abs(differences).sum(axis = 1)\n",
        "distances\n"
      ],
      "execution_count": 68,
      "outputs": [
        {
          "output_type": "execute_result",
          "data": {
            "text/plain": [
              "array([11,  5, 11,  6,  8, 10])"
            ]
          },
          "metadata": {
            "tags": []
          },
          "execution_count": 68
        }
      ]
    },
    {
      "cell_type": "markdown",
      "metadata": {
        "id": "cuXaCRgLWNwC"
      },
      "source": [
        "Finally, we want a sorted array of indices, the zeroth element of that array will be the closest row to Mikaela, the next element will be the next closest and so on. The result should be\n",
        "\n",
        "```\n",
        "array([1, 3, 4, 5, 0, 2])\n",
        "```\n"
      ]
    },
    {
      "cell_type": "code",
      "metadata": {
        "id": "_RRHpyldWNwD",
        "colab": {
          "base_uri": "https://localhost:8080/"
        },
        "outputId": "dd7a7f3a-ff8f-42c2-aa35-0a1276e5e715"
      },
      "source": [
        "sorted=np.argsort(distances)\n",
        "sorted"
      ],
      "execution_count": 69,
      "outputs": [
        {
          "output_type": "execute_result",
          "data": {
            "text/plain": [
              "array([1, 3, 4, 5, 0, 2])"
            ]
          },
          "metadata": {
            "tags": []
          },
          "execution_count": 69
        }
      ]
    },
    {
      "cell_type": "markdown",
      "metadata": {
        "id": "vro3jvANWNwD"
      },
      "source": [
        "Finally we need the name of the person that is the closest. "
      ]
    },
    {
      "cell_type": "code",
      "metadata": {
        "id": "TtyC6fKOWNwD",
        "colab": {
          "base_uri": "https://localhost:8080/",
          "height": 34
        },
        "outputId": "2e2dd961-3c0e-4415-b28e-b11e8c570e01"
      },
      "source": [
        "customerNames[sorted[0]]"
      ],
      "execution_count": 70,
      "outputs": [
        {
          "output_type": "execute_result",
          "data": {
            "application/vnd.google.colaboratory.intrinsic+json": {
              "type": "string"
            },
            "text/plain": [
              "'Ben'"
            ]
          },
          "metadata": {
            "tags": []
          },
          "execution_count": 70
        }
      ]
    },
    {
      "cell_type": "markdown",
      "metadata": {
        "id": "bLeAORdoWNwD"
      },
      "source": [
        "Okay, time to put it all together. Can you combine all the code you wrote above to finish the following function? So x is the new person and we want to find the closest customer to x."
      ]
    },
    {
      "cell_type": "code",
      "metadata": {
        "colab": {
          "base_uri": "https://localhost:8080/"
        },
        "id": "j5aD2JHTWNwD",
        "outputId": "73a0be82-4364-489a-b023-9a774b51b2c9"
      },
      "source": [
        "def findClosest(customers, customerNames, x):\n",
        "   answer=customerNames[(np.argsort(np.abs(customers-x).sum(axis=1)))[0]]\n",
        "\n",
        "   return answer\n",
        "\n",
        "\n",
        "print(findClosest(customers, customerNames, mikaela)) # Should print Ben\n",
        "print(findClosest(customers, customerNames, brandon)) # Should print Ann"
      ],
      "execution_count": 71,
      "outputs": [
        {
          "output_type": "stream",
          "text": [
            "Ben\n",
            "Ann\n"
          ],
          "name": "stdout"
        }
      ]
    },
    {
      "cell_type": "markdown",
      "metadata": {
        "id": "pGKEedn8WNwE"
      },
      "source": [
        "## Numpy Amazon\n",
        "\n",
        "We are going to start with the same array we did way up above:\n",
        "\n",
        " \n",
        " | Drone |xPos | yPos |\n",
        " | :---: | :---: | :---: |\n",
        " | wing_1a | 4 | 5 |\n",
        " | wing_2a | 6 | 6 |\n",
        " | wing_3a | 3 | 1 |\n",
        " | wing_4a | 9 | 5 |\n",
        " \n",
        " But this time, instead of Uber drivers, think of these as positions of [Alphabet's Wing delivery drones](https://wing.com/). \n",
        " Now we would like to find the closest drone to a customer who is at 7, 1.\n",
        " \n",
        "With the previous example we used Manhattan Distance.  With drones, we can compute the distance as the crow flies -- or Euclidean Distance.  We probably learned how to do this way back in 7th grade when we learned the Pythagorean Theorem which states:\n",
        "\n",
        "$$c^2 = a^2 + b^2$$\n",
        "\n",
        "Where *c* is the hypotenuse and *a* and *b* are the two other sides. So, if we want to find *c*:\n",
        "\n",
        "$$c = \\sqrt{a^2 + b^2}$$\n",
        "\n",
        "\n",
        "If we want to find the distance between the drone and a customer, *x* and *y* in the formula becomes\n",
        "\n",
        "$$Dist_{xy} = \\sqrt{(x_1-y_1)^2 + (x_2-y_2)^2}$$\n",
        "\n",
        "and for `wing_1a` who is at `[4,5]` and our customer who is at `[7,1]` then the formula becomes:\n",
        "\n",
        "$$Dist_{xy} = \\sqrt{(x_1-y_1)^2 + (x_2-y_2)^2} = \\sqrt{(4-7)^2 + (5-1)^2} =\\sqrt{-3^2 + 4^2}  = \\sqrt{9 + 16} = \\sqrt{25} = 5$$\n",
        "\n",
        "Sweet!  And to generalize this distance formula:\n",
        "\n",
        "$$Dist_{xy} = \\sqrt{(x_1-y_1)^2 + (x_2-y_2)^2}$$\n",
        "\n",
        "to n-dimensions:\n",
        "\n",
        "$$Dist_{xy} = \\sum_{i=1}^n{\\sqrt{(x_i-y_i)^2}}$$\n",
        "\n",
        "\n",
        "\n",
        "\n",
        "<h4 style=\"color:red\">Q4. You Try</h3>\n",
        "<span style=\"color:red\">Can you write a function euclidean that takes 3 arguments: droneLocation, droneNames, and an array representing one customer's position and returns the name of the closest drone?</span>\n",
        "\n",
        "First, a helpful hint:\n"
      ]
    },
    {
      "cell_type": "code",
      "metadata": {
        "id": "iZE6xM57WNwE",
        "colab": {
          "base_uri": "https://localhost:8080/"
        },
        "outputId": "1ca02979-1578-4a10-aa00-24aa63c526c4"
      },
      "source": [
        "arr = np.array([-1, 2, -3, 4])\n",
        "arr2 = np.square(arr)\n",
        "arr2"
      ],
      "execution_count": 72,
      "outputs": [
        {
          "output_type": "execute_result",
          "data": {
            "text/plain": [
              "array([ 1,  4,  9, 16])"
            ]
          },
          "metadata": {
            "tags": []
          },
          "execution_count": 72
        }
      ]
    },
    {
      "cell_type": "code",
      "metadata": {
        "id": "acuzTcT3WNwE",
        "colab": {
          "base_uri": "https://localhost:8080/",
          "height": 34
        },
        "outputId": "b367fe2a-1903-4d93-d883-69e5933c768c"
      },
      "source": [
        "locations = np.array([[4, 5], [6, 6], [3, 1], [9,5]])\n",
        "drivers = np.array([\"wing_1a\", \"wing_2a\", \"wing_3a\", \"wing_4a\"])\n",
        "cust = np.array([6, 3])\n",
        "\n",
        "\n",
        "\n",
        "def euclidean(locations, drivers, x):\n",
        "  result=drivers [np.argsort( np.sqrt((np.square(locations-x)).sum(axis=1)))[0]]\n",
        "  return result\n",
        "euclidean(locations, drivers, cust) "
      ],
      "execution_count": 80,
      "outputs": [
        {
          "output_type": "execute_result",
          "data": {
            "application/vnd.google.colaboratory.intrinsic+json": {
              "type": "string"
            },
            "text/plain": [
              "'wing_1a'"
            ]
          },
          "metadata": {
            "tags": []
          },
          "execution_count": 80
        }
      ]
    },
    {
      "cell_type": "markdown",
      "metadata": {
        "id": "w-LsyxHGdr4y"
      },
      "source": [
        ""
      ]
    },
    {
      "cell_type": "code",
      "metadata": {
        "id": "v79F-DmHy_Bb"
      },
      "source": [
        ""
      ],
      "execution_count": 74,
      "outputs": []
    },
    {
      "cell_type": "markdown",
      "metadata": {
        "id": "FsPnXheGWNwE"
      },
      "source": [
        "<h4 style=\"color:red\">Q5. You Try</h3>\n",
        "<span style=\"color:red\">try your code on the \"Amazing 5D Music example. Does it return the same person or a different one?\"</span>"
      ]
    },
    {
      "cell_type": "code",
      "metadata": {
        "collapsed": true,
        "id": "aI5bJLX0WNwE",
        "colab": {
          "base_uri": "https://localhost:8080/"
        },
        "outputId": "ef33ce0f-1f32-4465-f27f-7e63c8d8a209"
      },
      "source": [
        "customers = np.array([[4, 5, 2, 1, 3],\r\n",
        "                      [3, 1, 5, 4, 2],\r\n",
        "                      [5, 5, 2, 2, 3],\r\n",
        "                      [4, 1, 4, 4, 1], \r\n",
        "                      [1, 1, 5, 4, 1],\r\n",
        "                      [4, 5, 3, 3, 1]])\r\n",
        "\r\n",
        "customerNames = np.array([\"Ann\", \"Ben\", 'Jordyn', \"Sam\", \"Hyunseo\", \"Ahmed\"])\r\n",
        "\r\n",
        "mikaela = np.array([3, 2, 4, 5, 4])\r\n",
        "brandon = np.array([4, 5, 1, 2, 3])\r\n",
        "\r\n",
        "def music(customers, customerNames, x):\r\n",
        "   result = customerNames[np.argsort(np.sqrt(np.square(customers-x).sum(axis=1)))[0]]\r\n",
        "   return result\r\n",
        "print(music(customers, customerNames, mikaela)) \r\n",
        "print(music(customers, customerNames, brandon))\r\n",
        "\r\n",
        "#it returns the same person. Maybe because it simply does not have the capacity to operate \r\n",
        "#as the crow flies?\r\n"
      ],
      "execution_count": 81,
      "outputs": [
        {
          "output_type": "stream",
          "text": [
            "Ben\n",
            "Ann\n"
          ],
          "name": "stdout"
        }
      ]
    },
    {
      "cell_type": "code",
      "metadata": {
        "id": "b3aQdprndnvI"
      },
      "source": [
        "result=drivers [np.argsort( np.sqrt((np.square(locations-x)).sum(axis=1)))[0]]"
      ],
      "execution_count": 75,
      "outputs": []
    }
  ]
}